{
 "cells": [
  {
   "cell_type": "markdown",
   "id": "4988575e",
   "metadata": {},
   "source": [
    "## Q11-Write a Pandas program to select a specific row of given series/dataframe by integer index."
   ]
  },
  {
   "cell_type": "code",
   "execution_count": 1,
   "id": "6d27dc3e",
   "metadata": {},
   "outputs": [],
   "source": [
    "import pandas as pd\n",
    "df = pd.DataFrame({'A':[2011,2014,2017,2020],\n",
    "                   'B':[2012,2015,2018,2021],\n",
    "                   'C':[2013,2016,2019,2022]} )"
   ]
  },
  {
   "cell_type": "code",
   "execution_count": 10,
   "id": "9bfe72ea",
   "metadata": {},
   "outputs": [
    {
     "name": "stdout",
     "output_type": "stream",
     "text": [
      "      A     B     C\n",
      "0  2011  2012  2013\n",
      "1  2014  2015  2016\n",
      "2  2017  2018  2019\n",
      "3  2020  2021  2022\n",
      "The row 3 \n",
      "      A     B     C\n",
      "3  2020  2021  2022\n"
     ]
    }
   ],
   "source": [
    "print(df)\n",
    "res = df.iloc[[3]]\n",
    "print(\"The row 3 \")\n",
    "print(res)"
   ]
  }
 ],
 "metadata": {
  "kernelspec": {
   "display_name": "Python 3 (ipykernel)",
   "language": "python",
   "name": "python3"
  },
  "language_info": {
   "codemirror_mode": {
    "name": "ipython",
    "version": 3
   },
   "file_extension": ".py",
   "mimetype": "text/x-python",
   "name": "python",
   "nbconvert_exporter": "python",
   "pygments_lexer": "ipython3",
   "version": "3.11.4"
  }
 },
 "nbformat": 4,
 "nbformat_minor": 5
}
