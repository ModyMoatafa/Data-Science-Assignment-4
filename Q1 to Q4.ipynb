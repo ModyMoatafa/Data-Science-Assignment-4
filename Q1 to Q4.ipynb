{
 "cells": [
  {
   "cell_type": "code",
   "execution_count": 1,
   "id": "18d8db12",
   "metadata": {},
   "outputs": [],
   "source": [
    "import pandas as pd"
   ]
  },
  {
   "cell_type": "markdown",
   "id": "70c2add8",
   "metadata": {},
   "source": [
    "### Q1-Write a Pandas program to create and display a one-dimensional array-like object containing an array of data using Pandas module."
   ]
  },
  {
   "cell_type": "code",
   "execution_count": 3,
   "id": "674e2f52",
   "metadata": {},
   "outputs": [
    {
     "name": "stdout",
     "output_type": "stream",
     "text": [
      "0    1\n",
      "1    2\n",
      "2    3\n",
      "3    4\n",
      "4    5\n",
      "dtype: int64\n"
     ]
    }
   ],
   "source": [
    "s = pd.Series([1,2,3,4,5])\n",
    "print(s)"
   ]
  },
  {
   "cell_type": "markdown",
   "id": "660b3086",
   "metadata": {},
   "source": [
    "### Q2-Write a Pandas program to convert a Panda module Series to Python list and it's type."
   ]
  },
  {
   "cell_type": "code",
   "execution_count": 8,
   "id": "37b3384b",
   "metadata": {},
   "outputs": [
    {
     "name": "stdout",
     "output_type": "stream",
     "text": [
      "0     2\n",
      "1     4\n",
      "2     6\n",
      "3     8\n",
      "4    10\n",
      "5    12\n",
      "dtype: int64\n",
      "<class 'pandas.core.series.Series'>\n",
      "[2, 4, 6, 8, 10, 12]\n",
      "<class 'list'>\n"
     ]
    }
   ],
   "source": [
    "s1 =pd.Series([2,4,6,8,10,12])\n",
    "print(s1)\n",
    "print(type(s1))\n",
    "s_to_list=s1.tolist()\n",
    "print(s_to_list)\n",
    "print(type(s_to_list))"
   ]
  },
  {
   "cell_type": "markdown",
   "id": "30533579",
   "metadata": {},
   "source": [
    "### Q3-Write a Pandas program to compare the elements of the two Pandas Series."
   ]
  },
  {
   "cell_type": "code",
   "execution_count": 10,
   "id": "ca77c597",
   "metadata": {},
   "outputs": [
    {
     "name": "stdout",
     "output_type": "stream",
     "text": [
      "0    1\n",
      "1    2\n",
      "2    3\n",
      "3    4\n",
      "4    5\n",
      "dtype: int64\n",
      "0    1\n",
      "1    4\n",
      "2    2\n",
      "3    8\n",
      "4    5\n",
      "dtype: int64\n"
     ]
    }
   ],
   "source": [
    "ds1 = pd.Series([1,2,3,4,5])\n",
    "ds2 = pd.Series([1,4,2,8,5])\n",
    "print(ds1)\n",
    "print(ds2)"
   ]
  },
  {
   "cell_type": "code",
   "execution_count": 11,
   "id": "54c2f099",
   "metadata": {},
   "outputs": [
    {
     "name": "stdout",
     "output_type": "stream",
     "text": [
      "Equals :\n",
      "0     True\n",
      "1    False\n",
      "2    False\n",
      "3    False\n",
      "4     True\n",
      "dtype: bool\n"
     ]
    }
   ],
   "source": [
    "print(\"Equals :\")\n",
    "print(ds1==ds2)"
   ]
  },
  {
   "cell_type": "code",
   "execution_count": 12,
   "id": "1e37ec29",
   "metadata": {},
   "outputs": [
    {
     "name": "stdout",
     "output_type": "stream",
     "text": [
      "Greater than :\n",
      "0    False\n",
      "1    False\n",
      "2     True\n",
      "3    False\n",
      "4    False\n",
      "dtype: bool\n"
     ]
    }
   ],
   "source": [
    "print(\"Greater than :\")\n",
    "print(ds1>ds2)"
   ]
  },
  {
   "cell_type": "code",
   "execution_count": 13,
   "id": "fc4d8b68",
   "metadata": {},
   "outputs": [
    {
     "name": "stdout",
     "output_type": "stream",
     "text": [
      "Less thas :\n",
      "0    False\n",
      "1     True\n",
      "2    False\n",
      "3     True\n",
      "4    False\n",
      "dtype: bool\n"
     ]
    }
   ],
   "source": [
    "print(\"Less thas :\")\n",
    "print(ds1<ds2)"
   ]
  },
  {
   "cell_type": "markdown",
   "id": "c30adf6d",
   "metadata": {},
   "source": [
    "### Q4_Write a Pandas program to change the data type of given a column or a Series"
   ]
  },
  {
   "cell_type": "code",
   "execution_count": 17,
   "id": "dc28ce47",
   "metadata": {},
   "outputs": [
    {
     "name": "stdout",
     "output_type": "stream",
     "text": [
      "Hybird series\n",
      "0         1\n",
      "1    python\n",
      "2       2.5\n",
      "3     False\n",
      "4         3\n",
      "dtype: object\n",
      "the numeric series\n",
      "0    1.0\n",
      "1    NaN\n",
      "2    2.5\n",
      "3    0.0\n",
      "4    3.0\n",
      "dtype: float64\n"
     ]
    }
   ],
   "source": [
    "hs=pd.Series([\"1\",\"python\",\"2.5\",False,\"3\"])\n",
    "print(\"Hybird series\")\n",
    "print(hs)\n",
    "ns=pd.to_numeric(hs, errors='coerce')\n",
    "print(\"the numeric series\")\n",
    "print(ns)"
   ]
  }
 ],
 "metadata": {
  "kernelspec": {
   "display_name": "Python 3 (ipykernel)",
   "language": "python",
   "name": "python3"
  },
  "language_info": {
   "codemirror_mode": {
    "name": "ipython",
    "version": 3
   },
   "file_extension": ".py",
   "mimetype": "text/x-python",
   "name": "python",
   "nbconvert_exporter": "python",
   "pygments_lexer": "ipython3",
   "version": "3.11.4"
  }
 },
 "nbformat": 4,
 "nbformat_minor": 5
}
