{
 "cells": [
  {
   "cell_type": "markdown",
   "id": "ff805586",
   "metadata": {},
   "source": [
    "## Q5-Write a Pandas program to get the powers of an array values element-wise."
   ]
  },
  {
   "cell_type": "code",
   "execution_count": 1,
   "id": "8eabae9f",
   "metadata": {},
   "outputs": [
    {
     "name": "stdout",
     "output_type": "stream",
     "text": [
      "    X   Y   Z\n",
      "0  78  84  86\n",
      "1  85  94  97\n",
      "2  96  89  96\n",
      "3  80  83  72\n",
      "4  86  86  83\n"
     ]
    }
   ],
   "source": [
    "import pandas as pd\n",
    "import numpy as np \n",
    "\n",
    "df = pd.DataFrame({'X':[78,85,96,80,86], 'Y':[84,94,89,83,86],'Z':[86,97,96,72,83]});\n",
    "print(df)"
   ]
  },
  {
   "cell_type": "markdown",
   "id": "2d04f61c",
   "metadata": {},
   "source": [
    "## Q6-Write a Pandas program to get the first 3 rows of a given DataFrame."
   ]
  },
  {
   "cell_type": "code",
   "execution_count": 31,
   "id": "c20eff57",
   "metadata": {},
   "outputs": [
    {
     "name": "stdout",
     "output_type": "stream",
     "text": [
      "        name  score  attempts qualify\n",
      "a  Anastasia   12.5         1     yes\n",
      "b       Dima    9.0         3      no\n",
      "c  Katherine   16.5         2     yes\n"
     ]
    }
   ],
   "source": [
    "exam_data = {'name': ['Anastasia', 'Dima', 'Katherine', 'James', 'Emily', 'Michael','Matthew', 'Laura', 'Kevin', 'Jonas'],\n",
    "            'score': [12.5, 9, 16.5, np.nan, 9, 20, 14.5, np.nan, 8, 19],\n",
    "            'attempts': [1, 3, 2, 3, 2, 3, 1, 1, 2, 1],\n",
    "            'qualify': ['yes', 'no', 'yes', 'no', 'no', 'yes', 'yes', 'no', 'no', 'yes']}\n",
    "labels = ['a', 'b', 'c', 'd', 'e', 'f', 'g', 'h', 'i', 'j']\n",
    "df2=pd.DataFrame(exam_data, index=labels)\n",
    "print(df2.iloc[:3])"
   ]
  },
  {
   "cell_type": "markdown",
   "id": "30584d99",
   "metadata": {},
   "source": [
    "## Q7- Write a Pandas program to display the default index and set a column as an Index in a given dataframe"
   ]
  },
  {
   "cell_type": "code",
   "execution_count": 12,
   "id": "b728ea88",
   "metadata": {},
   "outputs": [
    {
     "name": "stdout",
     "output_type": "stream",
     "text": [
      "Default index :\n",
      "   address school_code class first_name last_name date_of_birth  weight t_id\n",
      "0  street1        s001     v    Alberto    Franco    15/05/2002      35   t1\n",
      "1  street2        s002     v       Gino   Mcneill    17/05/2002      32   t2\n",
      "2  street3        s003    vi       Ryan    Parkes    16/02/1999      33   t3\n",
      "3  street4        s004    vi      Eesha    Hinton    25/09/1998      30   t4\n",
      "4  street5        s005     v       Gino   Mcneill    11/05/2002      31   t5\n",
      "5  street6        s006    vi      David    Parkes    15/09/1997      32   t6\n"
     ]
    }
   ],
   "source": [
    "test_data = {\n",
    "             'address':[\"street1\",\"street2\",\"street3\",\"street4\",\"street5\",\"street6\"],\n",
    "             'school_code':[\"s001\",\"s002\",\"s003\",\"s004\",\"s005\",\"s006\"],\n",
    "             'class':[\"v\",\"v\",\"vi\",\"vi\",\"v\",\"vi\"],\n",
    "             'first_name':[\"Alberto\",\"Gino\",\"Ryan\",\"Eesha\",\"Gino\",\"David\"],\n",
    "             'last_name':[\"Franco\",\"Mcneill\",\"Parkes\",\"Hinton\",\"Mcneill\",\"Parkes\"],\n",
    "             'date_of_birth':[\"15/05/2002\",\"17/05/2002\",\"16/02/1999\",\"25/09/1998\",\"11/05/2002\",\"15/09/1997\"],\n",
    "             'weight':[35,32,33,30,31,32],\n",
    "             't_id':['t1','t2','t3','t4','t5','t6']\n",
    "            }\n",
    "\n",
    "df3=pd.DataFrame(test_data)\n",
    "print(\"Default index :\")\n",
    "print(df3)\n"
   ]
  },
  {
   "cell_type": "code",
   "execution_count": 13,
   "id": "ed1ea722",
   "metadata": {},
   "outputs": [
    {
     "name": "stdout",
     "output_type": "stream",
     "text": [
      "t_id as index\n",
      "      address school_code class first_name last_name date_of_birth  weight\n",
      "t_id                                                                      \n",
      "t1    street1        s001     v    Alberto    Franco    15/05/2002      35\n",
      "t2    street2        s002     v       Gino   Mcneill    17/05/2002      32\n",
      "t3    street3        s003    vi       Ryan    Parkes    16/02/1999      33\n",
      "t4    street4        s004    vi      Eesha    Hinton    25/09/1998      30\n",
      "t5    street5        s005     v       Gino   Mcneill    11/05/2002      31\n",
      "t6    street6        s006    vi      David    Parkes    15/09/1997      32\n"
     ]
    }
   ],
   "source": [
    "print(\"t_id as index\")\n",
    "ndf1=df3.set_index('t_id')\n",
    "print(ndf1)"
   ]
  },
  {
   "cell_type": "markdown",
   "id": "fca45b6c",
   "metadata": {},
   "source": [
    "## Q8- reset the index\n"
   ]
  },
  {
   "cell_type": "code",
   "execution_count": 15,
   "id": "b4a46aaf",
   "metadata": {},
   "outputs": [
    {
     "name": "stdout",
     "output_type": "stream",
     "text": [
      "reset index\n",
      "  t_id  address school_code class first_name last_name date_of_birth  weight\n",
      "0   t1  street1        s001     v    Alberto    Franco    15/05/2002      35\n",
      "1   t2  street2        s002     v       Gino   Mcneill    17/05/2002      32\n",
      "2   t3  street3        s003    vi       Ryan    Parkes    16/02/1999      33\n",
      "3   t4  street4        s004    vi      Eesha    Hinton    25/09/1998      30\n",
      "4   t5  street5        s005     v       Gino   Mcneill    11/05/2002      31\n",
      "5   t6  street6        s006    vi      David    Parkes    15/09/1997      32\n"
     ]
    }
   ],
   "source": [
    "print(\"reset index\")\n",
    "ndf2=ndf1.reset_index(inplace=False)\n",
    "print(ndf2)"
   ]
  },
  {
   "cell_type": "markdown",
   "id": "c3bb2cb8",
   "metadata": {},
   "source": [
    "## Q9-Write a Pandas program to create a dataframe indexing by date and time"
   ]
  },
  {
   "cell_type": "code",
   "execution_count": 32,
   "id": "ba718622",
   "metadata": {},
   "outputs": [
    {
     "name": "stdout",
     "output_type": "stream",
     "text": [
      "indexing by date and time :\n",
      "                     address school_code class first_name last_name  \\\n",
      "2020-05-12 07:10:10  street1        s001     v    Alberto    Franco   \n",
      "2020-05-12 07:10:11  street2        s002     v       Gino   Mcneill   \n",
      "2020-05-12 07:10:12  street3        s003    vi       Ryan    Parkes   \n",
      "2020-05-12 07:10:13  street4        s004    vi      Eesha    Hinton   \n",
      "2020-05-12 07:10:14  street5        s005     v       Gino   Mcneill   \n",
      "2020-05-12 07:10:15  street6        s006    vi      David    Parkes   \n",
      "\n",
      "                    date_of_birth  weight t_id  \n",
      "2020-05-12 07:10:10    15/05/2002      35   t1  \n",
      "2020-05-12 07:10:11    17/05/2002      32   t2  \n",
      "2020-05-12 07:10:12    16/02/1999      33   t3  \n",
      "2020-05-12 07:10:13    25/09/1998      30   t4  \n",
      "2020-05-12 07:10:14    11/05/2002      31   t5  \n",
      "2020-05-12 07:10:15    15/09/1997      32   t6  \n"
     ]
    }
   ],
   "source": [
    "print(\"indexing by date and time :\")\n",
    "dt_range = pd.date_range(start = '2020-05-12  07:10:10', freq = 'S' ,periods =6)\n",
    "ndf3=pd.DataFrame(test_data , index = dt_range)\n",
    "print(ndf3)"
   ]
  },
  {
   "cell_type": "markdown",
   "id": "e0013e0e",
   "metadata": {},
   "source": [
    "## Q10-Write a Pandas program to create a dataframe and set a title or name of the index column.\n"
   ]
  },
  {
   "cell_type": "code",
   "execution_count": 29,
   "id": "71cc71a2",
   "metadata": {},
   "outputs": [
    {
     "name": "stdout",
     "output_type": "stream",
     "text": [
      "            address school_code class first_name last_name date_of_birth  \\\n",
      "Index_name                                                                 \n",
      "t1          street1        s001     v    Alberto    Franco    15/05/2002   \n",
      "t2          street2        s002     v       Gino   Mcneill    17/05/2002   \n",
      "t3          street3        s003    vi       Ryan    Parkes    16/02/1999   \n",
      "t4          street4        s004    vi      Eesha    Hinton    25/09/1998   \n",
      "t5          street5        s005     v       Gino   Mcneill    11/05/2002   \n",
      "t6          street6        s006    vi      David    Parkes    15/09/1997   \n",
      "\n",
      "            weight  \n",
      "Index_name          \n",
      "t1              35  \n",
      "t2              32  \n",
      "t3              33  \n",
      "t4              30  \n",
      "t5              31  \n",
      "t6              32  \n"
     ]
    }
   ],
   "source": [
    "ndf1.index.name=\"Index_name\"\n",
    "print(ndf1)"
   ]
  },
  {
   "cell_type": "code",
   "execution_count": 30,
   "id": "67b09eb2",
   "metadata": {},
   "outputs": [
    {
     "data": {
      "text/html": [
       "<div>\n",
       "<style scoped>\n",
       "    .dataframe tbody tr th:only-of-type {\n",
       "        vertical-align: middle;\n",
       "    }\n",
       "\n",
       "    .dataframe tbody tr th {\n",
       "        vertical-align: top;\n",
       "    }\n",
       "\n",
       "    .dataframe thead th {\n",
       "        text-align: right;\n",
       "    }\n",
       "</style>\n",
       "<table border=\"1\" class=\"dataframe\">\n",
       "  <thead>\n",
       "    <tr style=\"text-align: right;\">\n",
       "      <th></th>\n",
       "      <th>address</th>\n",
       "      <th>school_code</th>\n",
       "      <th>class</th>\n",
       "      <th>first_name</th>\n",
       "      <th>last_name</th>\n",
       "      <th>date_of_birth</th>\n",
       "      <th>weight</th>\n",
       "    </tr>\n",
       "    <tr>\n",
       "      <th>Index_name</th>\n",
       "      <th></th>\n",
       "      <th></th>\n",
       "      <th></th>\n",
       "      <th></th>\n",
       "      <th></th>\n",
       "      <th></th>\n",
       "      <th></th>\n",
       "    </tr>\n",
       "  </thead>\n",
       "  <tbody>\n",
       "    <tr>\n",
       "      <th>t1</th>\n",
       "      <td>street1</td>\n",
       "      <td>s001</td>\n",
       "      <td>v</td>\n",
       "      <td>Alberto</td>\n",
       "      <td>Franco</td>\n",
       "      <td>15/05/2002</td>\n",
       "      <td>35</td>\n",
       "    </tr>\n",
       "    <tr>\n",
       "      <th>t2</th>\n",
       "      <td>street2</td>\n",
       "      <td>s002</td>\n",
       "      <td>v</td>\n",
       "      <td>Gino</td>\n",
       "      <td>Mcneill</td>\n",
       "      <td>17/05/2002</td>\n",
       "      <td>32</td>\n",
       "    </tr>\n",
       "    <tr>\n",
       "      <th>t3</th>\n",
       "      <td>street3</td>\n",
       "      <td>s003</td>\n",
       "      <td>vi</td>\n",
       "      <td>Ryan</td>\n",
       "      <td>Parkes</td>\n",
       "      <td>16/02/1999</td>\n",
       "      <td>33</td>\n",
       "    </tr>\n",
       "    <tr>\n",
       "      <th>t4</th>\n",
       "      <td>street4</td>\n",
       "      <td>s004</td>\n",
       "      <td>vi</td>\n",
       "      <td>Eesha</td>\n",
       "      <td>Hinton</td>\n",
       "      <td>25/09/1998</td>\n",
       "      <td>30</td>\n",
       "    </tr>\n",
       "    <tr>\n",
       "      <th>t5</th>\n",
       "      <td>street5</td>\n",
       "      <td>s005</td>\n",
       "      <td>v</td>\n",
       "      <td>Gino</td>\n",
       "      <td>Mcneill</td>\n",
       "      <td>11/05/2002</td>\n",
       "      <td>31</td>\n",
       "    </tr>\n",
       "    <tr>\n",
       "      <th>t6</th>\n",
       "      <td>street6</td>\n",
       "      <td>s006</td>\n",
       "      <td>vi</td>\n",
       "      <td>David</td>\n",
       "      <td>Parkes</td>\n",
       "      <td>15/09/1997</td>\n",
       "      <td>32</td>\n",
       "    </tr>\n",
       "  </tbody>\n",
       "</table>\n",
       "</div>"
      ],
      "text/plain": [
       "            address school_code class first_name last_name date_of_birth  \\\n",
       "Index_name                                                                 \n",
       "t1          street1        s001     v    Alberto    Franco    15/05/2002   \n",
       "t2          street2        s002     v       Gino   Mcneill    17/05/2002   \n",
       "t3          street3        s003    vi       Ryan    Parkes    16/02/1999   \n",
       "t4          street4        s004    vi      Eesha    Hinton    25/09/1998   \n",
       "t5          street5        s005     v       Gino   Mcneill    11/05/2002   \n",
       "t6          street6        s006    vi      David    Parkes    15/09/1997   \n",
       "\n",
       "            weight  \n",
       "Index_name          \n",
       "t1              35  \n",
       "t2              32  \n",
       "t3              33  \n",
       "t4              30  \n",
       "t5              31  \n",
       "t6              32  "
      ]
     },
     "execution_count": 30,
     "metadata": {},
     "output_type": "execute_result"
    }
   ],
   "source": [
    "ndf1"
   ]
  }
 ],
 "metadata": {
  "kernelspec": {
   "display_name": "Python 3 (ipykernel)",
   "language": "python",
   "name": "python3"
  },
  "language_info": {
   "codemirror_mode": {
    "name": "ipython",
    "version": 3
   },
   "file_extension": ".py",
   "mimetype": "text/x-python",
   "name": "python",
   "nbconvert_exporter": "python",
   "pygments_lexer": "ipython3",
   "version": "3.11.4"
  }
 },
 "nbformat": 4,
 "nbformat_minor": 5
}
